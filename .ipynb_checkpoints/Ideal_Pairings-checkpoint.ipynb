{
 "cells": [
  {
   "cell_type": "markdown",
   "metadata": {},
   "source": [
    "## Ideal Pairings\n",
    "\n",
    "A manager ranks his staff 1-10 on a specific skill. He needs to pair each member with another staff member that has the closest possible matching skill level. Build an algorithm that assigns pairings as efficiently as possible to achieve the lowest possible overall skill delta across all of the groups. \n",
    "\n",
    "Input: (array of int) skill ranking of each staff member as an array\n",
    "Output: (int) combined delta for all staff using the most efficient pairings"
   ]
  },
  {
   "cell_type": "code",
   "execution_count": 1,
   "metadata": {},
   "outputs": [],
   "source": [
    "test_list = [2, 3, 3, 5, 5, 7, 7, 8]"
   ]
  },
  {
   "cell_type": "code",
   "execution_count": 4,
   "metadata": {},
   "outputs": [
    {
     "name": "stdout",
     "output_type": "stream",
     "text": [
      "[0, 7]\n",
      "[1, 2]\n",
      "[1, 2]\n",
      "[3, 4]\n",
      "[3, 4]\n",
      "[5, 6]\n",
      "[5, 6]\n",
      "[0, 7]\n",
      "6\n"
     ]
    }
   ],
   "source": [
    "def find_pairs(scores):\n",
    "    \"\"\"\n",
    "    Main Function\n",
    "    \"\"\"\n",
    "#   CHECK FOR EVEN INPUT\n",
    "    if len(scores)%2 != 0:\n",
    "        return \"You have a 3rd wheel, silly!\"\n",
    "    \n",
    "#   RUN THROUGH POTENTIAL PAIRINGS FOR EACH AND RANK THEM FROM BEST TO WORST \n",
    "    analyzed = []\n",
    "    \n",
    "    for i, score in enumerate(scores):\n",
    "        analyzed.append(eval_index(i, scores))\n",
    "\n",
    "#   ASSIGN BEST POSSIBLE. IF BEST PAIRING IS ALREADY TAKEN, \n",
    "#   EVALUATE TO SEE WHICH IS BETTER OVERALL AND GO WITH THAT PAIR\n",
    "    best = find_best(analyzed, [], [])\n",
    "    \n",
    "#   TALLY UP DELTA-SCORE AND MAKE SURE NOT DOUBLE COUNTING\n",
    "    accounted_for = []\n",
    "    score = 0\n",
    "    \n",
    "    for item in best:\n",
    "        if item[\"index\"] not in accounted_for:\n",
    "            accounted_for += item[\"combination\"]\n",
    "            score += item[\"delta\"]\n",
    "\n",
    "#   OUTPUT\n",
    "    for item in best: \n",
    "        print(item['combination'])\n",
    "        \n",
    "    print(score)\n",
    "\n",
    "\n",
    "def eval_index(i, input_list):\n",
    "    \"\"\"\n",
    "    Helper: Evaluates a score and finds the best combinations with other scores in the list.\n",
    "    Returns a sorted list of best combinations.\n",
    "    \"\"\"\n",
    "    evaluation = []\n",
    "    for j, item in enumerate(input_list):\n",
    "        if j != i:\n",
    "            evaluation.append({\n",
    "                \"index\": i,\n",
    "                \"partner_index\": j,\n",
    "                \"combination\": sorted([i, j]),\n",
    "                \"delta\": abs(input_list[i]-input_list[j]),\n",
    "            })\n",
    "    evaluation = sorted(evaluation, key = lambda i:i['delta'])\n",
    "    return evaluation\n",
    "\n",
    "\n",
    "def find_best(input_list, primer_list, primer_indexes):\n",
    "    \"\"\"\n",
    "    Helper: Finds best combination for every item in the list and then checks for conflicts.\n",
    "    After one conflict is found, it determines which combo is better, winner gets that partner,\n",
    "    loser gets next best on its previously evaluated list. Function repeats until no conflicts are found.\n",
    "    \"\"\"\n",
    "    best_combos = primer_list\n",
    "    best_indexes = primer_indexes\n",
    "\n",
    "    if len(best_combos)==0:\n",
    "        best_combos = [item[0] for item in input_list]\n",
    "        best_indexes = [0 for item in best_combos]\n",
    "        return find_best(input_list, best_combos, best_indexes)\n",
    "    else:\n",
    "        best_combos = []\n",
    "        for best, item in zip(best_indexes, input_list):\n",
    "            best_combos.append(item[best])\n",
    "            \n",
    "    for i,(best, item) in enumerate(zip(best_indexes, best_combos)):\n",
    "        for test in best_combos:\n",
    "            if item[\"combination\"] != test[\"combination\"] and item[\"partner_index\"]==test[\"partner_index\"] and item[\"delta\"] > test[\"delta\"]:\n",
    "                best_indexes[i] +=1\n",
    "                return find_best(input_list, best_combos, best_indexes)\n",
    "    return best_combos\n",
    "\n",
    "\n",
    "    \n",
    "find_pairs(test_list)\n",
    "    \n",
    "        "
   ]
  },
  {
   "cell_type": "code",
   "execution_count": null,
   "metadata": {},
   "outputs": [],
   "source": []
  }
 ],
 "metadata": {
  "kernelspec": {
   "display_name": "Python 3",
   "language": "python",
   "name": "python3"
  },
  "language_info": {
   "codemirror_mode": {
    "name": "ipython",
    "version": 3
   },
   "file_extension": ".py",
   "mimetype": "text/x-python",
   "name": "python",
   "nbconvert_exporter": "python",
   "pygments_lexer": "ipython3",
   "version": "3.7.6"
  }
 },
 "nbformat": 4,
 "nbformat_minor": 2
}

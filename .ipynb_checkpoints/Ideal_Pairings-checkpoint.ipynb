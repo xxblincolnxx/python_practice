{
 "cells": [
  {
   "cell_type": "markdown",
   "metadata": {},
   "source": [
    "## Ideal Pairings\n",
    "\n",
    "A manager ranks his staff 1-10 on a specific skill. He needs to pair each member with another staff member that has the closest possible matching skill level. Build an algorithm that assigns pairings as efficiently as possible to achieve the lowest possible overall skill delta across all of the groups. \n",
    "\n",
    "Input: (array of int) skill ranking of each staff member as an array\n",
    "Output: (int) combined delta for all staff using the most efficient pairings"
   ]
  },
  {
   "cell_type": "code",
   "execution_count": 2,
   "metadata": {},
   "outputs": [],
   "source": [
    "test_list = [1,3, 5, 5, 6, 10]"
   ]
  },
  {
   "cell_type": "code",
   "execution_count": 11,
   "metadata": {},
   "outputs": [
    {
     "name": "stdout",
     "output_type": "stream",
     "text": [
      "[{'index': 0, 'partner_index': 1, 'combination': [0, 1], 'delta': 2}, {'index': 1, 'partner_index': 0, 'combination': [0, 1], 'delta': 2}, {'index': 2, 'partner_index': 3, 'combination': [2, 3], 'delta': 0}, {'index': 3, 'partner_index': 2, 'combination': [2, 3], 'delta': 0}, {'index': 4, 'partner_index': 5, 'combination': [4, 5], 'delta': 4}, {'index': 5, 'partner_index': 4, 'combination': [4, 5], 'delta': 4}] 6\n"
     ]
    }
   ],
   "source": [
    "def eval_index(i, input_list):\n",
    "    evaluation = []\n",
    "    for j, item in enumerate(input_list):\n",
    "        if j != i:\n",
    "            evaluation.append({\n",
    "                \"index\": i,\n",
    "                \"partner_index\": j,\n",
    "                \"combination\": sorted([i, j]),\n",
    "                \"delta\": abs(input_list[i]-input_list[j]),\n",
    "            })\n",
    "    evaluation = sorted(evaluation, key = lambda i:i['delta'])\n",
    "    return evaluation\n",
    "\n",
    "def find_best(input_list, primer_list, primer_indexes):\n",
    "    best_combos = primer_list\n",
    "    best_indexes = primer_indexes\n",
    "\n",
    "    if len(best_combos)==0:\n",
    "        best_combos = [item[0] for item in input_list]\n",
    "        best_indexes = [0 for item in best_combos]\n",
    "        return find_best(input_list, best_combos, best_indexes)\n",
    "    else:\n",
    "        best_combos = []\n",
    "        for best, item in zip(best_indexes, input_list):\n",
    "            best_combos.append(item[best])\n",
    "            \n",
    "    for i,(best, item) in enumerate(zip(best_indexes, best_combos)):\n",
    "        for test in best_combos:\n",
    "            if item[\"combination\"] != test[\"combination\"] and item[\"partner_index\"]==test[\"partner_index\"] and item[\"delta\"] > test[\"delta\"]:\n",
    "                best_indexes[i] +=1\n",
    "                return find_best(input_list, best_combos, best_indexes)\n",
    "    return best_combos\n",
    "\n",
    "def find_pairs(scores):\n",
    "    if len(scores)%2 != 0:\n",
    "        return \"You have a 3rd wheel, silly!\"\n",
    "    analyzed = []\n",
    "    \n",
    "    for i, score in enumerate(scores):\n",
    "        analyzed.append(eval_index(i, scores))\n",
    "        \n",
    "    best = find_best(analyzed, [], [])\n",
    "    \n",
    "    accounted_for = []\n",
    "    score = 0\n",
    "    for item in best:\n",
    "        if item[\"index\"] not in accounted_for:\n",
    "            accounted_for += item[\"combination\"]\n",
    "            score += item[\"delta\"]\n",
    "    \n",
    "    print(best, score)\n",
    "    \n",
    "find_pairs(test_list)\n",
    "    \n",
    "        "
   ]
  }
 ],
 "metadata": {
  "kernelspec": {
   "display_name": "Python 3",
   "language": "python",
   "name": "python3"
  },
  "language_info": {
   "codemirror_mode": {
    "name": "ipython",
    "version": 3
   },
   "file_extension": ".py",
   "mimetype": "text/x-python",
   "name": "python",
   "nbconvert_exporter": "python",
   "pygments_lexer": "ipython3",
   "version": "3.7.6"
  }
 },
 "nbformat": 4,
 "nbformat_minor": 2
}

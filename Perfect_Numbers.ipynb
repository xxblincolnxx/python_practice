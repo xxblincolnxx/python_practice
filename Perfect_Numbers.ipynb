{
 "cells": [
  {
   "cell_type": "markdown",
   "metadata": {},
   "source": [
    "## PERFECT NUMERS\n",
    "\n",
    "A perfect number is perfectly divisible, only, by both 5 and 3. Each number can be expressed as \"5^x*3^y\". Given two numbers, a lower and a higher, what are the perfect numbers between the two? "
   ]
  },
  {
   "cell_type": "code",
   "execution_count": 4,
   "metadata": {},
   "outputs": [],
   "source": [
    "first = 200\n",
    "second = 3300000"
   ]
  },
  {
   "cell_type": "code",
   "execution_count": 5,
   "metadata": {},
   "outputs": [
    {
     "name": "stdout",
     "output_type": "stream",
     "text": [
      "[225, 3375, 375, 50625, 1875, 759375, 9375]\n"
     ]
    }
   ],
   "source": [
    "def find_perfect(lower, higher):\n",
    "    perfect = []\n",
    "    \n",
    "    x = 1\n",
    "    y = 1\n",
    "    \n",
    "    while 5**x * 3**y<= higher:\n",
    "        expression = 5**x*3**y\n",
    "        \n",
    "        if expression not in perfect and expression>=lower:\n",
    "            perfect.append(expression)\n",
    "            \n",
    "        temp_y = 1\n",
    "        temp_expression = 5**x*3**temp_y\n",
    "        \n",
    "        while 5**x * 3**temp_y<=higher:\n",
    "            if temp_expression not in perfect and temp_expression>=lower:\n",
    "                perfect.append(temp_expression)\n",
    "            temp_y +=1\n",
    "        \n",
    "        x += 1\n",
    "        y += 1\n",
    "    \n",
    "    print(perfect)\n",
    "    \n",
    "find_perfect(first, second)\n",
    "    "
   ]
  },
  {
   "cell_type": "code",
   "execution_count": null,
   "metadata": {},
   "outputs": [],
   "source": []
  }
 ],
 "metadata": {
  "kernelspec": {
   "display_name": "Python 3",
   "language": "python",
   "name": "python3"
  },
  "language_info": {
   "codemirror_mode": {
    "name": "ipython",
    "version": 3
   },
   "file_extension": ".py",
   "mimetype": "text/x-python",
   "name": "python",
   "nbconvert_exporter": "python",
   "pygments_lexer": "ipython3",
   "version": "3.7.6"
  }
 },
 "nbformat": 4,
 "nbformat_minor": 2
}
